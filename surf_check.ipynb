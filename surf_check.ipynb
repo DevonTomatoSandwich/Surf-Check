{
 "cells": [
  {
   "cell_type": "markdown",
   "metadata": {},
   "source": [
    "# Surf Check"
   ]
  },
  {
   "cell_type": "markdown",
   "metadata": {},
   "source": [
    "## Imports"
   ]
  },
  {
   "cell_type": "code",
   "execution_count": 1,
   "metadata": {
    "scrolled": true
   },
   "outputs": [],
   "source": [
    "import os\n",
    "from datetime import datetime, timedelta\n",
    "import pytz\n",
    "import json\n",
    "import csv\n",
    "import pandas as pd\n",
    "import numpy as np\n",
    "import requests\n",
    "# Plotting\n",
    "import matplotlib.pyplot as plt\n",
    "from matplotlib.lines import Line2D # legend\n",
    "import matplotlib.dates as mdates # date formatting\n",
    "# Arrow marker\n",
    "from matplotlib.transforms import Affine2D\n",
    "from matplotlib.path import Path"
   ]
  },
  {
   "cell_type": "markdown",
   "metadata": {},
   "source": [
    "## INPUTS (from config, directions, arrow) "
   ]
  },
  {
   "cell_type": "code",
   "execution_count": 2,
   "metadata": {
    "scrolled": true
   },
   "outputs": [],
   "source": [
    "# get config\n",
    "parent_folder = os.path.dirname(os.path.realpath(\"__file__\"))\n",
    "with open(f\"{parent_folder}/config.json\") as file:\n",
    "  config = json.load(file)\n",
    "\n",
    "# get current time\n",
    "tz = pytz.timezone(config[\"tz\"])\n",
    "currentTime = tz.localize(datetime.now()).replace(tzinfo=None)\n",
    "\n",
    "# get domain times\n",
    "startTime = currentTime - timedelta(hours=config[\"hours_trailing\"]) \n",
    "finishTime = currentTime + timedelta(hours=config[\"hours_leading\"])\n",
    "\n",
    "# gets directionDict. A dict with \n",
    "#   key   : direction symbol e.g. \"NW\" \n",
    "#   value : bearing of direction to between -180 < value <= 180. e.g. \"NW\" is -45\n",
    "with open(f\"{parent_folder}/directions.json\") as file:\n",
    "  directionDict = json.load(file)\n",
    "\n",
    "# gets arrowUp\n",
    "with open(f\"{parent_folder}/arrow.csv\") as file:\n",
    "  vertices = np.loadtxt(file, delimiter=\",\")\n",
    "codes = [Path.MOVETO] + [Path.LINETO] * (len(vertices) - 2) + [Path.CLOSEPOLY]\n",
    "arrowDown = Path(vertices, codes) # upward pointing arrow that will later be rotated"
   ]
  },
  {
   "cell_type": "markdown",
   "metadata": {},
   "source": [
    "## Data Source Methods"
   ]
  },
  {
   "cell_type": "code",
   "execution_count": 3,
   "metadata": {
    "scrolled": true
   },
   "outputs": [],
   "source": [
    "def getData():\n",
    "  # data for wind/swell obswervation/forecast day/night\n",
    "  data = {}\n",
    "  data['WindObservation'] = getObservationWind()\n",
    "  data['WindForecast'] = getForecastWind()\n",
    "  data['SwellObservation'], data['SwellForecast'] = getSwell()\n",
    "  data['light_zones'] = getDaylight()\n",
    "  return data"
   ]
  },
  {
   "cell_type": "code",
   "execution_count": 4,
   "metadata": {
    "scrolled": true
   },
   "outputs": [],
   "source": [
    "def knotsToKmph(knots):\n",
    "  return knots * 1.852 # 1 knot is 1.852 km/h"
   ]
  },
  {
   "cell_type": "code",
   "execution_count": 5,
   "metadata": {
    "scrolled": true
   },
   "outputs": [],
   "source": [
    "def getObservationWind():\n",
    "  # from http://www.bom.gov.au/products/IDN60801/IDN60801.95745.shtml#other_formats under JSON link\n",
    "  response = requests.get(\n",
    "    \"http://www.bom.gov.au/fwo/IDN60701/IDN60701.95745.json\",\n",
    "    headers={\"User-Agent\": \"Mozilla/5.0\"}\n",
    "  )\n",
    "  if not response.ok:\n",
    "    print(f\"ERROR getObservationWind request is bad. status={response.status_code}\")\n",
    "    return \n",
    "  data = response.json() \n",
    "  dataList = data[\"observations\"][\"data\"][::-1]\n",
    "\n",
    "  dates = []\n",
    "  speeds = []\n",
    "  directions = []\n",
    "  for pnt in dataList:\n",
    "    date = datetime.strptime(pnt[\"local_date_time_full\"], \"%Y%m%d%H%M%S\")\n",
    "    if(startTime <= date and date <= finishTime):\n",
    "      dates.append(date)\n",
    "      speeds.append(knotsToKmph(pnt[\"wind_spd_kt\"]))\n",
    "      directions.append(directionDict[pnt[\"wind_dir\"]])\n",
    "  return pd.DataFrame(\n",
    "    {\n",
    "      \"speed\": speeds, \n",
    "      \"direction\": directions\n",
    "    }, \n",
    "    index=dates\n",
    "  )"
   ]
  },
  {
   "cell_type": "code",
   "execution_count": 6,
   "metadata": {
    "scrolled": true
   },
   "outputs": [],
   "source": [
    "# df = getObservationWind()\n",
    "# print(df)"
   ]
  },
  {
   "cell_type": "code",
   "execution_count": 7,
   "metadata": {
    "scrolled": true
   },
   "outputs": [],
   "source": [
    "def getForecastWind():\n",
    "  # from https://github.com/tonyallan/weather-au use the first two links under 'Weather API'\n",
    "  response = requests.get(\n",
    "    \"https://api.weather.bom.gov.au/v1/locations/r3g7cg/forecasts/3-hourly\"\n",
    "  )\n",
    "  if not response.ok:\n",
    "    print(f\"ERROR getForecastWind request is bad. status={response.status_code}\")\n",
    "    return\n",
    "  data = response.json() \n",
    "  dataList = data['data'][::-1]\n",
    "\n",
    "  dates = []\n",
    "  speeds = []\n",
    "  directions = []\n",
    "  for pnt in dataList:\n",
    "    date = datetime.strptime(pnt[\"time\"][:19], \"%Y-%m-%dT%H:%M:%S\")\n",
    "    if(currentTime <= date and date <= finishTime):\n",
    "      dates.append(date)\n",
    "      speeds.append(pnt['wind']['speed_kilometre'])\n",
    "      directions.append(directionDict[pnt['wind']['direction']])\n",
    "  return pd.DataFrame(\n",
    "    {\n",
    "      \"speed\": speeds, \n",
    "      \"direction\": directions}, \n",
    "    index=dates\n",
    "  )"
   ]
  },
  {
   "cell_type": "code",
   "execution_count": 8,
   "metadata": {
    "scrolled": true
   },
   "outputs": [],
   "source": [
    "# df = getForecastWind()\n",
    "# print(df)"
   ]
  },
  {
   "cell_type": "code",
   "execution_count": 9,
   "metadata": {
    "scrolled": true
   },
   "outputs": [],
   "source": [
    "def getSwell():\n",
    "  response = requests.get('https://forecast.waves.nsw.gov.au',\n",
    "    params={\n",
    "      \"page\": 'series',\n",
    "      \"id\": config['swell_location_id'] # 3000876 is port kembla main beach @30m depth\n",
    "    }\n",
    "  )\n",
    "  itemList = response.text.split(\"\\n\")\n",
    "  \n",
    "  datesObserved = []\n",
    "  datesForecast = []\n",
    "  hsms = [] # Nearshore significant wave height tranformation from measured (m)\n",
    "  dirms = [] # Nearshore wave direction transformation from measured (° TNorth)\n",
    "  hsfs = [] # Same as hsms but forecast\n",
    "  dirfs = [] # Same as dirms but forecast\n",
    "  itemList.pop(0) # pops heading: Date,Hsm,Tpm,Dirm,Hsf,Tpf,Dirf\n",
    "  for x in itemList: \n",
    "    row = x.split(\",\")\n",
    "    if len(row) != 7:\n",
    "      continue\n",
    "    date, hsm, tpm, dirm, hsf, tpf, dirf = row\n",
    "    date = datetime.strptime(date[:19], \"%Y-%m-%d %H:%M:%S\")\n",
    "    if date < startTime:\n",
    "      continue\n",
    "    elif date > finishTime:\n",
    "      break\n",
    "    if date <= currentTime and hsm != '':\n",
    "      datesObserved.append(date)\n",
    "      hsms.append(float(hsm))\n",
    "      dirms.append(float(dirm))\n",
    "    if date > currentTime and hsf != '':\n",
    "      datesForecast.append(date)\n",
    "      hsfs.append(float(hsf))\n",
    "      dirfs.append(float(dirf))\n",
    "  dfObserved = pd.DataFrame(\n",
    "    {\n",
    "      \"height\": hsms, \n",
    "      \"direction\": dirms\n",
    "    }, \n",
    "    index=datesObserved\n",
    "  )\n",
    "  dfForecast = pd.DataFrame(\n",
    "    {\n",
    "      \"height\": hsfs, \n",
    "      \"direction\": dirfs\n",
    "    }, \n",
    "    index=datesForecast\n",
    "  )\n",
    "  return dfObserved, dfForecast"
   ]
  },
  {
   "cell_type": "code",
   "execution_count": 10,
   "metadata": {
    "scrolled": true
   },
   "outputs": [],
   "source": [
    "# df1, df2 = getSwell()\n",
    "# print(df1)\n",
    "# print(df2)"
   ]
  },
  {
   "cell_type": "code",
   "execution_count": 11,
   "metadata": {
    "scrolled": true
   },
   "outputs": [],
   "source": [
    "def isBeforeTime(date, hour, minute):\n",
    "  return (date.hour < hour) or (date.hour == hour and date.minute < minute)"
   ]
  },
  {
   "cell_type": "code",
   "execution_count": 12,
   "metadata": {
    "scrolled": true
   },
   "outputs": [],
   "source": [
    "def getDaylight():\n",
    "  color_day = '#FFFA4F' # day yellow colour for da sun\n",
    "  color_night = '#7733FF' # puple night colour\n",
    "  color_current = 'c' # cyan color to indicate the current time. Included in last df row\n",
    "  \n",
    "  # Thanks to the devs at Sunrise - Sunset. See https://sunrise-sunset.org/api\n",
    "  response = requests.get(\n",
    "    \"https://api.sunrise-sunset.org/json\",\n",
    "    params={\n",
    "      \"lat\": config[\"lat\"],\n",
    "      \"lng\": config[\"lng\"],\n",
    "      \"formatted\": 0\n",
    "    }\n",
    "  )\n",
    "  data = response.json() \n",
    "  \n",
    "  # civil_twilight_begin/civil_twilight_end is civil_dawn/civil_dusk or firstlight/lastlight\n",
    "  # civil_dawn/civil_dusk is rougly the time needed where \n",
    "  # artificial light should be used for outdoor activities\n",
    "  datetimeFromStr = lambda s : datetime.strptime(s[:19], \"%Y-%m-%dT%H:%M:%S\")\n",
    "  firstLightRaw = pytz.utc.localize(datetimeFromStr(data['results']['civil_twilight_begin']))\n",
    "  lastLightRaw = pytz.utc.localize(datetimeFromStr(data['results']['civil_twilight_end']))\n",
    "  firstLight = firstLightRaw.astimezone(tz).replace(tzinfo=None)\n",
    "  lastLight = lastLightRaw.astimezone(tz).replace(tzinfo=None)\n",
    "  fL_hour = firstLight.hour\n",
    "  fL_min = firstLight.minute\n",
    "  lL_hour = lastLight.hour\n",
    "  lL_min = lastLight.minute\n",
    "  day_delta = lastLight - firstLight\n",
    "  night_delta = timedelta(hours=24) - day_delta\n",
    "  \n",
    "  def nextZones(start, isDay):\n",
    "    while start < finishTime:\n",
    "      if isDay:\n",
    "        light_zones.append([start, start + day_delta, color_day])\n",
    "        start += day_delta\n",
    "      else:\n",
    "        light_zones.append([start, start + night_delta, color_night])\n",
    "        start += night_delta\n",
    "      isDay = not isDay\n",
    "    return light_zones\n",
    "  \n",
    "  light_zones = []\n",
    "  firstTime = startTime # first time before start where day/night transition occurs\n",
    "  if ((not isBeforeTime(startTime, fL_hour, fL_min)) and isBeforeTime(startTime, lL_hour, lL_min)): \n",
    "    # start is day zone\n",
    "    start = startTime.replace(hour=fL_hour, minute=fL_min)\n",
    "    light_zones.append([start, start + day_delta, color_day])\n",
    "    # next zones\n",
    "    start += day_delta \n",
    "    isDay = False\n",
    "    light_zones = nextZones(start, isDay)\n",
    "  else:\n",
    "    # start is night zone\n",
    "    if((not isBeforeTime(startTime, lL_hour, lL_min)) and isBeforeTime(startTime, 24, 0)): \n",
    "      # start is arvo night zone\n",
    "      firstTime = startTime.replace(hour=lL_hour, minute=lL_min)\n",
    "    else: \n",
    "      # start is early hours night zone\n",
    "      firstTime = startTime - timedelta(hours=fL_hour, minutes=fL_min)\n",
    "      firstTime = firstTime.replace(hour=lL_hour, minute=lL_min)\n",
    "    start = firstTime\n",
    "    light_zones.append([start, start + night_delta, color_night])\n",
    "    # next zones\n",
    "    start += night_delta \n",
    "    isDay = True\n",
    "    light_zones = nextZones(start, isDay)\n",
    "      \n",
    "  current_delta = timedelta(minutes=5)\n",
    "  light_zones.append([currentTime - current_delta, currentTime + current_delta, color_current])\n",
    "  return light_zones"
   ]
  },
  {
   "cell_type": "code",
   "execution_count": 13,
   "metadata": {
    "scrolled": true
   },
   "outputs": [],
   "source": [
    "# light_zones = getDaylight()\n",
    "# print(light_zones)"
   ]
  },
  {
   "cell_type": "code",
   "execution_count": 14,
   "metadata": {
    "scrolled": true
   },
   "outputs": [],
   "source": [
    "data = getData()"
   ]
  },
  {
   "cell_type": "markdown",
   "metadata": {},
   "source": [
    "## Graph Methods"
   ]
  },
  {
   "cell_type": "code",
   "execution_count": 15,
   "metadata": {
    "scrolled": true
   },
   "outputs": [],
   "source": [
    "def getMaxSpeed(data):\n",
    "  extraSpace = 5 # range between top speed and top of plot if over smallestMax \n",
    "  maxSpeed = 50 # plot shows up to at least 50km/h\n",
    "  if not data['WindObservation'].empty:\n",
    "    _speed = max(data['WindObservation']['speed']) + extraSpace\n",
    "    if _speed > maxSpeed:\n",
    "      maxSpeed = speed\n",
    "  if not data['WindForecast'].empty:\n",
    "    _speed = max(data['WindForecast']['speed']) + extraSpace\n",
    "    if _speed > maxSpeed:\n",
    "      maxSpeed = speed\n",
    "  return maxSpeed"
   ]
  },
  {
   "cell_type": "code",
   "execution_count": 16,
   "metadata": {
    "scrolled": true
   },
   "outputs": [],
   "source": [
    "def getMaxHeight(data):\n",
    "  extraSpace = 1 # range between top height and top of plot if over smallestMax \n",
    "  maxHeight = 3 # plot shows up to at least 3m\n",
    "  if not data['SwellObservation'].empty:\n",
    "    _height = max(data['SwellObservation']['height']) + extraSpace\n",
    "    if _height > maxHeight:\n",
    "      maxHeight = _height\n",
    "  if not data['SwellForecast'].empty:\n",
    "    _height = max(data['SwellForecast']['height']) + extraSpace\n",
    "    if _height > maxHeight:\n",
    "      maxHeight = _height\n",
    "  return maxHeight"
   ]
  },
  {
   "cell_type": "code",
   "execution_count": 17,
   "metadata": {
    "scrolled": true
   },
   "outputs": [],
   "source": [
    "def plotDFlineMarker(ax, df, valuesColumn, color):\n",
    "  # plots the line and arrow markers for each dataframe\n",
    "  if df.empty:\n",
    "    return\n",
    "  ax.plot(df.index, df[valuesColumn], c=color) # line between points\n",
    "  for i, angleTo in enumerate(df['direction']):\n",
    "    arrow = arrowDown.transformed(Affine2D().rotate_deg(-angleTo))\n",
    "    ax.plot(df.index[i], df[valuesColumn][i], color, marker=arrow, markersize=10)"
   ]
  },
  {
   "cell_type": "code",
   "execution_count": 18,
   "metadata": {},
   "outputs": [],
   "source": [
    "def graph(data):\n",
    "  # formatting\n",
    "  fig, axes = plt.subplots(2, figsize=(10, 4.5), sharex=True)\n",
    "  fig.suptitle('Surf Check: Port Kembla', size='x-large')\n",
    "  plt.subplots_adjust(top=0.85, bottom=-0.1) # space for title and legend\n",
    "  for ax in axes:\n",
    "    ax.xaxis.set_major_formatter(mdates.DateFormatter('%l:%M %p'))\n",
    "    ax.xaxis.set_major_locator(mdates.HourLocator(byhour=range(0, 24, 2)))\n",
    "    ax.tick_params(bottom=False)\n",
    "    ax.grid(axis='x', color=(0.4, 0.4, 0.4))\n",
    "    for lightStart, lightFinish, lightColor in data['light_zones']: # Daylight plotting\n",
    "      ax.axvspan(lightStart, lightFinish, facecolor=lightColor, alpha=0.5)\n",
    "  plt.xticks(rotation=45, ha='right')\n",
    "  plt.xlim(startTime, finishTime)\n",
    "\n",
    "  # legend\n",
    "  legend_elements = [\n",
    "    Line2D([0], [0], color='b', lw=4, label='Observed'),\n",
    "    Line2D([0], [0], color='r', lw=4, label='Forecast'),\n",
    "    Line2D([], [], color='#1f77b4', marker='|', linestyle='None',\n",
    "      markersize=10, markeredgewidth=4, label='Current time')\n",
    "  ]\n",
    "  plt.legend(handles=legend_elements, loc='upper left', bbox_to_anchor=(0, -0.6, 1, 0.2), \n",
    "    mode=\"expand\", ncol=3) # plot outside chart\n",
    "\n",
    "  # Wind Subplot\n",
    "  ax_wind = axes[0]\n",
    "  ax_wind.set_title('Wind Speed (km/h)')\n",
    "  ax_wind.set_ylim(-1, getMaxSpeed(data))\n",
    "  plotDFlineMarker(ax_wind, data['WindObservation'], 'speed', 'b')\n",
    "  plotDFlineMarker(ax_wind, data['WindForecast'], 'speed', 'r')\n",
    "  \n",
    "  # Swell Subplot\n",
    "  ax_swell = axes[1]\n",
    "  ax_swell.set_title('Swell Height (m)')\n",
    "  ax_swell.set_ylim(-0.1, getMaxHeight(data))\n",
    "  plotDFlineMarker(ax_swell, data['SwellObservation'], 'height', 'b')\n",
    "  plotDFlineMarker(ax_swell, data['SwellForecast'], 'height', 'r')\n",
    "\n",
    "  plt.show()"
   ]
  },
  {
   "cell_type": "code",
   "execution_count": 19,
   "metadata": {},
   "outputs": [
    {
     "data": {
      "image/png": "[encoded data removed]",
      "text/plain": [
       "<Figure size 720x324 with 2 Axes>"
      ]
     },
     "metadata": {
      "needs_background": "light"
     },
     "output_type": "display_data"
    }
   ],
   "source": [
    "graph(data)"
   ]
  }
 ],
 "metadata": {
  "kernelspec": {
   "display_name": "Python 3",
   "language": "python",
   "name": "python3"
  },
  "language_info": {
   "codemirror_mode": {
    "name": "ipython",
    "version": 3
   },
   "file_extension": ".py",
   "mimetype": "text/x-python",
   "name": "python",
   "nbconvert_exporter": "python",
   "pygments_lexer": "ipython3",
   "version": "3.8.3"
  }
 },
 "nbformat": 4,
 "nbformat_minor": 4
}
